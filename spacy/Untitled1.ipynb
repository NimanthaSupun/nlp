{
 "cells": [
  {
   "cell_type": "code",
   "execution_count": null,
   "id": "11171ffe-39ec-4665-b103-255a94eddac8",
   "metadata": {},
   "outputs": [],
   "source": []
  }
 ],
 "metadata": {
  "kernelspec": {
   "display_name": "",
   "name": ""
  },
  "language_info": {
   "name": ""
  }
 },
 "nbformat": 4,
 "nbformat_minor": 5
}
