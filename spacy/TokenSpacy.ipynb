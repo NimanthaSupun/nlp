{
 "cells": [
  {
   "cell_type": "code",
   "execution_count": 1,
   "id": "2b6b85a3-5752-4374-81b3-7a63bf4f5b8b",
   "metadata": {},
   "outputs": [],
   "source": [
    "import spacy"
   ]
  },
  {
   "cell_type": "code",
   "execution_count": 5,
   "id": "64012145-7025-4499-a16a-ad8f119ed705",
   "metadata": {},
   "outputs": [
    {
     "name": "stdout",
     "output_type": "stream",
     "text": [
      "A\n",
      "collection\n",
      "of\n",
      "training\n",
      "annotations\n",
      ",\n",
      "containing\n",
      "two\n",
      "Doc\n",
      "objects\n",
      ":\n",
      "the\n",
      "reference\n",
      "data\n",
      "and\n",
      "the\n",
      "predictions\n",
      ".\n"
     ]
    }
   ],
   "source": [
    "nlp = spacy.blank('en')\n",
    "doc = nlp(\"A collection of training annotations, containing two Doc objects: the reference data and the predictions.\")\n",
    "for token in doc:\n",
    "    print(token)"
   ]
  },
  {
   "cell_type": "code",
   "execution_count": 7,
   "id": "683c07ce-155e-45a2-99ad-8b0b577fcce0",
   "metadata": {},
   "outputs": [
    {
     "data": {
      "text/plain": [
       "False"
      ]
     },
     "execution_count": 7,
     "metadata": {},
     "output_type": "execute_result"
    }
   ],
   "source": [
    "token = doc[1]\n",
    "token\n",
    "token.is_currency"
   ]
  },
  {
   "cell_type": "code",
   "execution_count": 11,
   "id": "b5395240-7ba3-4eb1-a552-4d034c9ed519",
   "metadata": {},
   "outputs": [
    {
     "name": "stdout",
     "output_type": "stream",
     "text": [
      "A ==> index ->  0 is_alpha True is_punct False like num False like emaik False\n",
      "collection ==> index ->  1 is_alpha True is_punct False like num False like emaik False\n",
      "of ==> index ->  2 is_alpha True is_punct False like num False like emaik False\n",
      "training ==> index ->  3 is_alpha True is_punct False like num False like emaik False\n",
      "annotations ==> index ->  4 is_alpha True is_punct False like num False like emaik False\n",
      ", ==> index ->  5 is_alpha False is_punct True like num False like emaik False\n",
      "containing ==> index ->  6 is_alpha True is_punct False like num False like emaik False\n",
      "two ==> index ->  7 is_alpha True is_punct False like num True like emaik False\n",
      "Doc ==> index ->  8 is_alpha True is_punct False like num False like emaik False\n",
      "objects ==> index ->  9 is_alpha True is_punct False like num False like emaik False\n",
      ": ==> index ->  10 is_alpha False is_punct True like num False like emaik False\n",
      "the ==> index ->  11 is_alpha True is_punct False like num False like emaik False\n",
      "reference ==> index ->  12 is_alpha True is_punct False like num False like emaik False\n",
      "data ==> index ->  13 is_alpha True is_punct False like num False like emaik False\n",
      "and ==> index ->  14 is_alpha True is_punct False like num False like emaik False\n",
      "the ==> index ->  15 is_alpha True is_punct False like num False like emaik False\n",
      "predictions ==> index ->  16 is_alpha True is_punct False like num False like emaik False\n",
      ". ==> index ->  17 is_alpha False is_punct True like num False like emaik False\n"
     ]
    }
   ],
   "source": [
    "for token in doc:\n",
    "    print(token,\"==>\",'index -> ',token.i,\n",
    "         \"is_alpha\",token.is_alpha,\n",
    "         \"is_punct\",token.is_punct,\n",
    "         \"like num\",token.like_num,\n",
    "         \"like emaik\",token.like_email)"
   ]
  },
  {
   "cell_type": "code",
   "execution_count": 15,
   "id": "cc81fc0d-7b6f-4aac-acfb-f290859e76e5",
   "metadata": {},
   "outputs": [
    {
     "data": {
      "text/plain": [
       "'Last month, our team faced several challenges while completing the final stage of the project. Communication played an important role in overcoming these issues, and different departments were involved in coordinating solutions. For instance, Alex from the technical support team provided immediate assistance when the system crashed, and he can still be reached at alex.jones123@gmail.com\\n for any future queries.\\n\\nAt the same time, the sales department worked tirelessly to update our clients about product availability. Their official channel remains sales_support@company.org\\n, which is open to anyone who wishes to request more details or place an order. On the creative side, Emma led the design approval process and ensured that the final product looked professional; her contact is emma-design@creatives.co.uk\\n. Finally, all urgent administrative matters were directed to the university IT office via admin_it@university.edu\\n, which helped maintain smooth communication across the departments.\\n\\nOverall, the project taught us how important collaboration and clear communication are in achieving success. Each departmentâ€™s contribution, supported by timely email correspondence, helped us meet our deadlines and deliver the expected results.'"
      ]
     },
     "execution_count": 15,
     "metadata": {},
     "output_type": "execute_result"
    }
   ],
   "source": [
    "with open('doc.txt') as f:\n",
    "    text = f.read()\n",
    "text     "
   ]
  },
  {
   "cell_type": "code",
   "execution_count": 17,
   "id": "7f6c7723-e08b-4788-96e3-8a8a902a7dba",
   "metadata": {},
   "outputs": [
    {
     "data": {
      "text/plain": [
       "[alex.jones123@gmail.com,\n",
       " sales_support@company.org,\n",
       " emma-design@creatives.co.uk,\n",
       " admin_it@university.edu]"
      ]
     },
     "execution_count": 17,
     "metadata": {},
     "output_type": "execute_result"
    }
   ],
   "source": [
    "email = nlp(text)\n",
    "x = []\n",
    "for token in email:\n",
    "    if token.like_email:\n",
    "        x.append(token)\n",
    "x        "
   ]
  },
  {
   "cell_type": "code",
   "execution_count": 19,
   "id": "7fd83f7f-36d8-4bc0-8f75-34e2f3a93cbd",
   "metadata": {},
   "outputs": [],
   "source": [
    "doc1 = nlp('The official documentation for spaCy. his documentation provides comprehensive information on various aspects of spaCy')"
   ]
  },
  {
   "cell_type": "code",
   "execution_count": 39,
   "id": "81ec7642-3f24-4779-a1aa-c69e5727ff8a",
   "metadata": {},
   "outputs": [
    {
     "name": "stdout",
     "output_type": "stream",
     "text": [
      "The official documentation for spaCy.\n",
      "his documentation provides comprehensive information on various aspects of spaCy\n"
     ]
    }
   ],
   "source": [
    "for sentence in doc1.sents:\n",
    "    print(sentence)"
   ]
  },
  {
   "cell_type": "code",
   "execution_count": 31,
   "id": "7dd5f092-c2b2-4c13-9890-a4888287a595",
   "metadata": {},
   "outputs": [
    {
     "data": {
      "text/plain": [
       "['sentencizer']"
      ]
     },
     "execution_count": 31,
     "metadata": {},
     "output_type": "execute_result"
    }
   ],
   "source": [
    "nlp.pipe_names"
   ]
  },
  {
   "cell_type": "code",
   "execution_count": null,
   "id": "08224062-222b-4dbd-94fe-33630e964c29",
   "metadata": {},
   "outputs": [],
   "source": [
    "nlp.add_pipe('sentencizer')"
   ]
  },
  {
   "cell_type": "code",
   "execution_count": 37,
   "id": "01b6dd8a-37fc-4da8-8d33-8cc5a82881a3",
   "metadata": {},
   "outputs": [
    {
     "name": "stdout",
     "output_type": "stream",
     "text": [
      "The official documentation for spaCy.\n",
      "his documentation provides comprehensive information on various aspects of spaCy\n"
     ]
    }
   ],
   "source": [
    "doc1 = nlp('The official documentation for spaCy. his documentation provides comprehensive information on various aspects of spaCy')\n",
    "for sentence in doc1.sents:\n",
    "    print(sentence)"
   ]
  },
  {
   "cell_type": "code",
   "execution_count": 41,
   "id": "63475f8c-e7e2-404b-be80-90ecc2716c25",
   "metadata": {},
   "outputs": [],
   "source": [
    "text3 = '''\n",
    "Look for data to help you address the question. Governments are good\n",
    "sources because data from public research is often freely available. Good\n",
    "places to start include http://www.data.gov/, and http://www.science.\n",
    "gov/, and in the United Kingdom, http://data.gov.uk/.\n",
    "Two of my favorite data sets are the General Social Survey at http://www3.norc.org/gss+website/, \n",
    "and the European Social Survey at http://www.europeansocialsurvey.org/.\n",
    "'''"
   ]
  },
  {
   "cell_type": "code",
   "execution_count": null,
   "id": "60e8d11d-2d89-475b-95f0-4c2711befe48",
   "metadata": {},
   "outputs": [],
   "source": [
    "url = nlp"
   ]
  }
 ],
 "metadata": {
  "kernelspec": {
   "display_name": "Python (TensorFlow)",
   "language": "python",
   "name": "tensorflow-env"
  },
  "language_info": {
   "codemirror_mode": {
    "name": "ipython",
    "version": 3
   },
   "file_extension": ".py",
   "mimetype": "text/x-python",
   "name": "python",
   "nbconvert_exporter": "python",
   "pygments_lexer": "ipython3",
   "version": "3.12.10"
  }
 },
 "nbformat": 4,
 "nbformat_minor": 5
}
