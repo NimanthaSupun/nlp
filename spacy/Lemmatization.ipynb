{
 "cells": [
  {
   "cell_type": "code",
   "execution_count": 1,
   "id": "09cc4a04-4b18-4a41-88e8-91f7a4624ebd",
   "metadata": {},
   "outputs": [],
   "source": [
    "import spacy\n",
    "from nltk.stem import PorterStemmer"
   ]
  },
  {
   "cell_type": "code",
   "execution_count": 3,
   "id": "4b96c1b0-5090-416e-9fbc-1551added837",
   "metadata": {},
   "outputs": [],
   "source": [
    "stemmer = PorterStemmer()"
   ]
  },
  {
   "cell_type": "code",
   "execution_count": 5,
   "id": "f6913276-9f15-4053-96ce-6e2c1ed058ff",
   "metadata": {},
   "outputs": [],
   "source": [
    "nlp = spacy.load('en_core_web_sm')"
   ]
  },
  {
   "cell_type": "code",
   "execution_count": 7,
   "id": "5f60d539-d47e-47b2-9e98-09af22c377d7",
   "metadata": {},
   "outputs": [],
   "source": [
    "words = [\"eating\", \"eats\", \"eat\", \"ate\", \"adjustable\", \"rafting\", \"ability\", \"meeting\"]"
   ]
  },
  {
   "cell_type": "code",
   "execution_count": 17,
   "id": "6927cad5-79c4-4142-82b5-c483eb408c5b",
   "metadata": {},
   "outputs": [
    {
     "name": "stdout",
     "output_type": "stream",
     "text": [
      "eating         | eat                 \n",
      "eats           | eat                 \n",
      "eat            | eat                 \n",
      "ate            | ate                 \n",
      "adjustable     | adjust              \n",
      "rafting        | raft                \n",
      "ability        | abil                \n",
      "meeting        | meet                \n"
     ]
    }
   ],
   "source": [
    "for word in words:\n",
    "    print('{0:15}| {1:20}'.format(word,stemmer.stem(word)))"
   ]
  },
  {
   "cell_type": "markdown",
   "id": "85722491-8304-44c3-a4a1-0ba74de4b6a7",
   "metadata": {},
   "source": [
    "### Lemmatization using spacy"
   ]
  },
  {
   "cell_type": "code",
   "execution_count": 50,
   "id": "ff361fec-f1a1-4aea-86e7-d85a005421ab",
   "metadata": {},
   "outputs": [
    {
     "name": "stdout",
     "output_type": "stream",
     "text": [
      "eating              |  eat                 \n",
      "eats                |  eat                 \n",
      "eat                 |  eat                 \n",
      "ate                 |  eat                 \n",
      "adjustable          |  adjustable          \n",
      "rafting             |  raft                \n",
      "ability             |  ability             \n",
      "meeting             |  meet                \n",
      "better              |  well                \n"
     ]
    }
   ],
   "source": [
    "doc = nlp(\"eating eats eat ate adjustable rafting ability meeting better\")\n",
    "\n",
    "for token in doc:\n",
    "    print(\"{:20}|  {:20}\".format(token.text, token.lemma_))"
   ]
  },
  {
   "cell_type": "code",
   "execution_count": 60,
   "id": "774f5663-30af-46d6-90e1-4e5f97c47ddc",
   "metadata": {},
   "outputs": [
    {
     "name": "stdout",
     "output_type": "stream",
     "text": [
      "eating              |  eat                 \n",
      "eats                |  eat                 \n",
      "eat                 |  eat                 \n",
      "ate                 |  eat                 \n",
      "adjustable          |  adjustable          \n",
      "rafting             |  raft                \n",
      "ability             |  ability             \n",
      "meeting             |  meeting             \n"
     ]
    }
   ],
   "source": [
    "words = [\"eating\", \"eats\", \"eat\", \"ate\", \"adjustable\", \"rafting\", \"ability\", \"meeting\"]\n",
    "\n",
    "for word in words:\n",
    "    doc = nlp(word)\n",
    "    token = doc[0]\n",
    "    print(\"{:20}|  {:20}\".format(token.text,token.lemma_))"
   ]
  },
  {
   "cell_type": "code",
   "execution_count": 62,
   "id": "0edcd003-7b44-473b-97a8-80ff8479c6d6",
   "metadata": {},
   "outputs": [
    {
     "name": "stdout",
     "output_type": "stream",
     "text": [
      "Bro                 |  Bro                 \n",
      ",                   |  ,                   \n",
      "you                 |  you                 \n",
      "wanna               |  wanna               \n",
      "go                  |  go                  \n",
      "?                   |  ?                   \n",
      "Brah                |  Brah                \n",
      ",                   |  ,                   \n",
      "do                  |  do                  \n",
      "n't                 |  not                 \n",
      "say                 |  say                 \n",
      "no                  |  no                  \n",
      "!                   |  !                   \n",
      "I                   |  I                   \n",
      "am                  |  be                  \n",
      "exhausted           |  exhaust             \n"
     ]
    }
   ],
   "source": [
    "doc = nlp(\"Bro, you wanna go? Brah, don't say no! I am exhausted\")\n",
    "for token in doc:\n",
    "    print(\"{:20}|  {:20}\".format(token.text, token.lemma_))"
   ]
  },
  {
   "cell_type": "code",
   "execution_count": 64,
   "id": "b9fcdd15-4310-4718-bfcd-835d29297889",
   "metadata": {},
   "outputs": [
    {
     "data": {
      "text/plain": [
       "['tok2vec', 'tagger', 'parser', 'attribute_ruler', 'lemmatizer', 'ner']"
      ]
     },
     "execution_count": 64,
     "metadata": {},
     "output_type": "execute_result"
    }
   ],
   "source": [
    "nlp.pipe_names"
   ]
  },
  {
   "cell_type": "code",
   "execution_count": 68,
   "id": "b805bf67-f246-44f7-9c5b-373ae026d542",
   "metadata": {},
   "outputs": [
    {
     "name": "stdout",
     "output_type": "stream",
     "text": [
      "Bro                 |  Brother             \n",
      ",                   |  ,                   \n",
      "you                 |  you                 \n",
      "wanna               |  wanna               \n",
      "go                  |  go                  \n",
      "?                   |  ?                   \n",
      "Brah                |  Brother             \n",
      ",                   |  ,                   \n",
      "do                  |  do                  \n",
      "n't                 |  not                 \n",
      "say                 |  say                 \n",
      "no                  |  no                  \n",
      "!                   |  !                   \n",
      "I                   |  I                   \n",
      "am                  |  be                  \n",
      "exhausted           |  exhaust             \n"
     ]
    }
   ],
   "source": [
    "ar = nlp.get_pipe('attribute_ruler')\n",
    "ar.add([[{'TEXT':'Bro'}],[{'TEXT':'Brah'}]],{'LEMMA':'Brother'})\n",
    "\n",
    "doc = nlp(\"Bro, you wanna go? Brah, don't say no! I am exhausted\")\n",
    "for token in doc:\n",
    "    print(\"{:20}|  {:20}\".format(token.text, token.lemma_))"
   ]
  },
  {
   "cell_type": "code",
   "execution_count": null,
   "id": "eef3d267-fbde-475a-ac27-1e9d948214b0",
   "metadata": {},
   "outputs": [],
   "source": []
  }
 ],
 "metadata": {
  "kernelspec": {
   "display_name": "Python (TensorFlow)",
   "language": "python",
   "name": "tensorflow-env"
  },
  "language_info": {
   "codemirror_mode": {
    "name": "ipython",
    "version": 3
   },
   "file_extension": ".py",
   "mimetype": "text/x-python",
   "name": "python",
   "nbconvert_exporter": "python",
   "pygments_lexer": "ipython3",
   "version": "3.12.10"
  }
 },
 "nbformat": 4,
 "nbformat_minor": 5
}
