{
 "cells": [
  {
   "cell_type": "code",
   "execution_count": 1,
   "id": "9a5da286-966b-4afc-a6a2-43fbbe74225e",
   "metadata": {},
   "outputs": [],
   "source": [
    "import spacy"
   ]
  },
  {
   "cell_type": "code",
   "execution_count": 3,
   "id": "d21935b7-20ca-4234-8424-e774b53f15a8",
   "metadata": {},
   "outputs": [],
   "source": [
    "nlp = spacy.load('en_core_web_lg')"
   ]
  },
  {
   "cell_type": "code",
   "execution_count": 9,
   "id": "2890847e-e4ba-4728-bc70-fe085bcf656f",
   "metadata": {},
   "outputs": [
    {
     "name": "stdout",
     "output_type": "stream",
     "text": [
      "dog |   vector:  True |  OOV : False\n",
      "cat |   vector:  True |  OOV : False\n",
      "banana |   vector:  True |  OOV : False\n",
      "ererag |   vector:  False |  OOV : True\n"
     ]
    }
   ],
   "source": [
    "doc = nlp('dog cat banana ererag')\n",
    "\n",
    "for token in doc:\n",
    "    print(token.text,\"|   vector: \", token.has_vector, \"|  OOV :\", token.is_oov)"
   ]
  },
  {
   "cell_type": "code",
   "execution_count": null,
   "id": "a0b1f665-ba1d-48d1-ae53-bb14d54af695",
   "metadata": {},
   "outputs": [],
   "source": []
  }
 ],
 "metadata": {
  "kernelspec": {
   "display_name": "Python (TensorFlow)",
   "language": "python",
   "name": "tensorflow-env"
  },
  "language_info": {
   "codemirror_mode": {
    "name": "ipython",
    "version": 3
   },
   "file_extension": ".py",
   "mimetype": "text/x-python",
   "name": "python",
   "nbconvert_exporter": "python",
   "pygments_lexer": "ipython3",
   "version": "3.12.10"
  }
 },
 "nbformat": 4,
 "nbformat_minor": 5
}
