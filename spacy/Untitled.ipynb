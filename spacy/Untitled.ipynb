{
 "cells": [
  {
   "cell_type": "code",
   "execution_count": 1,
   "id": "76a92d80-4b56-4033-abd4-7d7b50d92c58",
   "metadata": {},
   "outputs": [],
   "source": [
    "import spacy"
   ]
  },
  {
   "cell_type": "code",
   "execution_count": 3,
   "id": "2fb1eeeb-5760-42c8-91d0-a632fd8e6e2f",
   "metadata": {},
   "outputs": [],
   "source": [
    "nlp = spacy.load('en_core_web_sm')"
   ]
  },
  {
   "cell_type": "code",
   "execution_count": 5,
   "id": "a2dbea8c-1e4a-4f56-be9a-ded47c437e34",
   "metadata": {},
   "outputs": [
    {
     "data": {
      "text/plain": [
       "['tok2vec', 'tagger', 'parser', 'attribute_ruler', 'lemmatizer', 'ner']"
      ]
     },
     "execution_count": 5,
     "metadata": {},
     "output_type": "execute_result"
    }
   ],
   "source": [
    "nlp.pipe_names"
   ]
  },
  {
   "cell_type": "code",
   "execution_count": 7,
   "id": "c7b02e5a-9a6b-4219-82fa-7f51cc8933d0",
   "metadata": {},
   "outputs": [
    {
     "name": "stdout",
     "output_type": "stream",
     "text": [
      "Tesla Inc  |  ORG  |  Companies, agencies, institutions, etc.\n",
      "$45 billion  |  MONEY  |  Monetary values, including unit\n"
     ]
    }
   ],
   "source": [
    "doc = nlp('Tesla Inc is going to acquire twitter for $45 billion')\n",
    "\n",
    "for ent in doc.ents:\n",
    "    print(ent.text, \" | \",ent.label_, \" | \", spacy.explain(ent.label_))"
   ]
  },
  {
   "cell_type": "code",
   "execution_count": 9,
   "id": "5ae33449-8528-4674-bab7-9079020ea7b0",
   "metadata": {},
   "outputs": [
    {
     "data": {
      "text/html": [
       "<span class=\"tex2jax_ignore\"><div class=\"entities\" style=\"line-height: 2.5; direction: ltr\">\n",
       "<mark class=\"entity\" style=\"background: #7aecec; padding: 0.45em 0.6em; margin: 0 0.25em; line-height: 1; border-radius: 0.35em;\">\n",
       "    Tesla Inc\n",
       "    <span style=\"font-size: 0.8em; font-weight: bold; line-height: 1; border-radius: 0.35em; vertical-align: middle; margin-left: 0.5rem\">ORG</span>\n",
       "</mark>\n",
       " is going to acquire twitter for \n",
       "<mark class=\"entity\" style=\"background: #e4e7d2; padding: 0.45em 0.6em; margin: 0 0.25em; line-height: 1; border-radius: 0.35em;\">\n",
       "    $45 billion\n",
       "    <span style=\"font-size: 0.8em; font-weight: bold; line-height: 1; border-radius: 0.35em; vertical-align: middle; margin-left: 0.5rem\">MONEY</span>\n",
       "</mark>\n",
       "</div></span>"
      ],
      "text/plain": [
       "<IPython.core.display.HTML object>"
      ]
     },
     "metadata": {},
     "output_type": "display_data"
    }
   ],
   "source": [
    "from spacy import displacy\n",
    "displacy.render(doc,style=\"ent\")"
   ]
  },
  {
   "cell_type": "code",
   "execution_count": 11,
   "id": "879e5e67-fda5-44a3-9fc3-f07ca024004b",
   "metadata": {},
   "outputs": [
    {
     "name": "stdout",
     "output_type": "stream",
     "text": [
      "CARDINAL             | Numerals that do not fall under another type\n",
      "DATE                 | Absolute or relative dates or periods\n",
      "EVENT                | Named hurricanes, battles, wars, sports events, etc.\n",
      "FAC                  | Buildings, airports, highways, bridges, etc.\n",
      "GPE                  | Countries, cities, states\n",
      "LANGUAGE             | Any named language\n",
      "LAW                  | Named documents made into laws.\n",
      "LOC                  | Non-GPE locations, mountain ranges, bodies of water\n",
      "MONEY                | Monetary values, including unit\n",
      "NORP                 | Nationalities or religious or political groups\n",
      "ORDINAL              | \"first\", \"second\", etc.\n",
      "ORG                  | Companies, agencies, institutions, etc.\n",
      "PERCENT              | Percentage, including \"%\"\n",
      "PERSON               | People, including fictional\n",
      "PRODUCT              | Objects, vehicles, foods, etc. (not services)\n",
      "QUANTITY             | Measurements, as of weight or distance\n",
      "TIME                 | Times smaller than a day\n",
      "WORK_OF_ART          | Titles of books, songs, etc.\n"
     ]
    }
   ],
   "source": [
    "x = nlp.pipe_labels['ner']\n",
    "for label in x:\n",
    "    print(\"{0:20} | {1:0}\".format(label,spacy.explain(label)))"
   ]
  },
  {
   "cell_type": "code",
   "execution_count": 13,
   "id": "c02b939e-8cd2-441d-b318-1c381aa83618",
   "metadata": {},
   "outputs": [],
   "source": [
    "doc = nlp('Michael Bloomberg founded Bloombern in 1982')"
   ]
  },
  {
   "cell_type": "code",
   "execution_count": 15,
   "id": "247ed5e1-2ebd-41ff-838f-acb52f9912ec",
   "metadata": {},
   "outputs": [
    {
     "name": "stdout",
     "output_type": "stream",
     "text": [
      "Michael Bloomberg | PERSON | People, including fictional\n",
      "Bloombern | GPE | Countries, cities, states\n",
      "1982 | DATE | Absolute or relative dates or periods\n"
     ]
    }
   ],
   "source": [
    "for ent in doc.ents:\n",
    "    print(ent.text, \"|\", ent.label_, \"|\", spacy.explain(ent.label_))"
   ]
  },
  {
   "cell_type": "code",
   "execution_count": 17,
   "id": "a20e0f56-bbc9-4eb0-a4d6-875105a83381",
   "metadata": {},
   "outputs": [
    {
     "name": "stdout",
     "output_type": "stream",
     "text": [
      "Tesla | ORG\n",
      "$45 billion | MONEY\n"
     ]
    }
   ],
   "source": [
    "doc = nlp('Tesla is going to acquire twitter for $45 billion')\n",
    "for ent in doc.ents:\n",
    "    print(ent.text, \"|\", ent.label_)"
   ]
  },
  {
   "cell_type": "code",
   "execution_count": 19,
   "id": "3ad6be93-1232-43e8-a20e-132b6449b453",
   "metadata": {},
   "outputs": [
    {
     "data": {
      "text/plain": [
       "going to acquire"
      ]
     },
     "execution_count": 19,
     "metadata": {},
     "output_type": "execute_result"
    }
   ],
   "source": [
    "doc[2:5]"
   ]
  },
  {
   "cell_type": "code",
   "execution_count": null,
   "id": "84ab4410-f231-4566-a7ab-535ab5936730",
   "metadata": {},
   "outputs": [],
   "source": []
  }
 ],
 "metadata": {
  "kernelspec": {
   "display_name": "Python (TensorFlow)",
   "language": "python",
   "name": "tensorflow-env"
  },
  "language_info": {
   "codemirror_mode": {
    "name": "ipython",
    "version": 3
   },
   "file_extension": ".py",
   "mimetype": "text/x-python",
   "name": "python",
   "nbconvert_exporter": "python",
   "pygments_lexer": "ipython3",
   "version": "3.12.10"
  }
 },
 "nbformat": 4,
 "nbformat_minor": 5
}
