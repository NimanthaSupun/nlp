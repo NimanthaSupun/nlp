{
 "cells": [
  {
   "cell_type": "code",
   "execution_count": 1,
   "id": "2b6b85a3-5752-4374-81b3-7a63bf4f5b8b",
   "metadata": {},
   "outputs": [],
   "source": [
    "import spacy"
   ]
  },
  {
   "cell_type": "code",
   "execution_count": 5,
   "id": "64012145-7025-4499-a16a-ad8f119ed705",
   "metadata": {},
   "outputs": [
    {
     "name": "stdout",
     "output_type": "stream",
     "text": [
      "A\n",
      "collection\n",
      "of\n",
      "training\n",
      "annotations\n",
      ",\n",
      "containing\n",
      "two\n",
      "Doc\n",
      "objects\n",
      ":\n",
      "the\n",
      "reference\n",
      "data\n",
      "and\n",
      "the\n",
      "predictions\n",
      ".\n"
     ]
    }
   ],
   "source": [
    "nlp = spacy.blank('en')\n",
    "doc = nlp(\"A collection of training annotations, containing two Doc objects: the reference data and the predictions.\")\n",
    "for token in doc:\n",
    "    print(token)"
   ]
  },
  {
   "cell_type": "code",
   "execution_count": 7,
   "id": "683c07ce-155e-45a2-99ad-8b0b577fcce0",
   "metadata": {},
   "outputs": [
    {
     "data": {
      "text/plain": [
       "False"
      ]
     },
     "execution_count": 7,
     "metadata": {},
     "output_type": "execute_result"
    }
   ],
   "source": [
    "token = doc[1]\n",
    "token\n",
    "token.is_currency"
   ]
  },
  {
   "cell_type": "code",
   "execution_count": 9,
   "id": "b5395240-7ba3-4eb1-a552-4d034c9ed519",
   "metadata": {},
   "outputs": [
    {
     "name": "stdout",
     "output_type": "stream",
     "text": [
      "A ==> index ->  0\n",
      "collection ==> index ->  1\n",
      "of ==> index ->  2\n",
      "training ==> index ->  3\n",
      "annotations ==> index ->  4\n",
      ", ==> index ->  5\n",
      "containing ==> index ->  6\n",
      "two ==> index ->  7\n",
      "Doc ==> index ->  8\n",
      "objects ==> index ->  9\n",
      ": ==> index ->  10\n",
      "the ==> index ->  11\n",
      "reference ==> index ->  12\n",
      "data ==> index ->  13\n",
      "and ==> index ->  14\n",
      "the ==> index ->  15\n",
      "predictions ==> index ->  16\n",
      ". ==> index ->  17\n"
     ]
    }
   ],
   "source": [
    "for token in doc:\n",
    "    print(token,\"==>\",'index -> ',token.i,\n",
    "         \"is_alpha\",token.is_alpha,\n",
    "         \"is_punct\",token.is_punct,\n",
    "         \"like num\",token.like_num,\n",
    "         \"like emaik\",token.em)"
   ]
  },
  {
   "cell_type": "code",
   "execution_count": null,
   "id": "cc81fc0d-7b6f-4aac-acfb-f290859e76e5",
   "metadata": {},
   "outputs": [],
   "source": []
  }
 ],
 "metadata": {
  "kernelspec": {
   "display_name": "Python (TensorFlow)",
   "language": "python",
   "name": "tensorflow-env"
  },
  "language_info": {
   "codemirror_mode": {
    "name": "ipython",
    "version": 3
   },
   "file_extension": ".py",
   "mimetype": "text/x-python",
   "name": "python",
   "nbconvert_exporter": "python",
   "pygments_lexer": "ipython3",
   "version": "3.12.10"
  }
 },
 "nbformat": 4,
 "nbformat_minor": 5
}
