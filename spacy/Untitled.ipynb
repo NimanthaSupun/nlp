{
 "cells": [
  {
   "cell_type": "code",
   "execution_count": null,
   "id": "9a5da286-966b-4afc-a6a2-43fbbe74225e",
   "metadata": {},
   "outputs": [],
   "source": []
  }
 ],
 "metadata": {
  "kernelspec": {
   "display_name": "Python (TensorFlow)",
   "language": "python",
   "name": "tensorflow-env"
  },
  "language_info": {
   "name": ""
  }
 },
 "nbformat": 4,
 "nbformat_minor": 5
}
