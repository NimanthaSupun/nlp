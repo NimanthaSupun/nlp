{
 "cells": [
  {
   "cell_type": "markdown",
   "id": "4e9299d8-f2a8-4910-bd97-5681ca7bdef4",
   "metadata": {},
   "source": [
    "## Bag Of Ngrams"
   ]
  },
  {
   "cell_type": "code",
   "execution_count": null,
   "id": "4d3e5684-4ecf-4105-81b5-7c59a0f920ce",
   "metadata": {},
   "outputs": [],
   "source": []
  }
 ],
 "metadata": {
  "kernelspec": {
   "display_name": "Python (TensorFlow)",
   "language": "python",
   "name": "tensorflow-env"
  },
  "language_info": {
   "codemirror_mode": {
    "name": "ipython",
    "version": 3
   },
   "file_extension": ".py",
   "mimetype": "text/x-python",
   "name": "python",
   "nbconvert_exporter": "python",
   "pygments_lexer": "ipython3",
   "version": "3.12.10"
  }
 },
 "nbformat": 4,
 "nbformat_minor": 5
}
