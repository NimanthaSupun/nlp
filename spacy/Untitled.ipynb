{
 "cells": [
  {
   "cell_type": "code",
   "execution_count": null,
   "id": "76a92d80-4b56-4033-abd4-7d7b50d92c58",
   "metadata": {},
   "outputs": [],
   "source": []
  }
 ],
 "metadata": {
  "kernelspec": {
   "display_name": "",
   "name": ""
  },
  "language_info": {
   "name": ""
  }
 },
 "nbformat": 4,
 "nbformat_minor": 5
}
