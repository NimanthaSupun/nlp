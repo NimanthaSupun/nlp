{
 "cells": [
  {
   "cell_type": "code",
   "execution_count": 1,
   "id": "2b6b85a3-5752-4374-81b3-7a63bf4f5b8b",
   "metadata": {},
   "outputs": [],
   "source": [
    "import spacy"
   ]
  },
  {
   "cell_type": "code",
   "execution_count": 5,
   "id": "64012145-7025-4499-a16a-ad8f119ed705",
   "metadata": {},
   "outputs": [
    {
     "name": "stdout",
     "output_type": "stream",
     "text": [
      "A\n",
      "collection\n",
      "of\n",
      "training\n",
      "annotations\n",
      ",\n",
      "containing\n",
      "two\n",
      "Doc\n",
      "objects\n",
      ":\n",
      "the\n",
      "reference\n",
      "data\n",
      "and\n",
      "the\n",
      "predictions\n",
      ".\n"
     ]
    }
   ],
   "source": [
    "nlp = spacy.blank('en')\n",
    "doc = nlp(\"A collection of training annotations, containing two Doc objects: the reference data and the predictions.\")\n",
    "for token in doc:\n",
    "    print(token)"
   ]
  },
  {
   "cell_type": "code",
   "execution_count": 7,
   "id": "683c07ce-155e-45a2-99ad-8b0b577fcce0",
   "metadata": {},
   "outputs": [
    {
     "data": {
      "text/plain": [
       "False"
      ]
     },
     "execution_count": 7,
     "metadata": {},
     "output_type": "execute_result"
    }
   ],
   "source": [
    "token = doc[1]\n",
    "token\n",
    "token.is_currency"
   ]
  },
  {
   "cell_type": "code",
   "execution_count": 11,
   "id": "b5395240-7ba3-4eb1-a552-4d034c9ed519",
   "metadata": {},
   "outputs": [
    {
     "name": "stdout",
     "output_type": "stream",
     "text": [
      "A ==> index ->  0 is_alpha True is_punct False like num False like emaik False\n",
      "collection ==> index ->  1 is_alpha True is_punct False like num False like emaik False\n",
      "of ==> index ->  2 is_alpha True is_punct False like num False like emaik False\n",
      "training ==> index ->  3 is_alpha True is_punct False like num False like emaik False\n",
      "annotations ==> index ->  4 is_alpha True is_punct False like num False like emaik False\n",
      ", ==> index ->  5 is_alpha False is_punct True like num False like emaik False\n",
      "containing ==> index ->  6 is_alpha True is_punct False like num False like emaik False\n",
      "two ==> index ->  7 is_alpha True is_punct False like num True like emaik False\n",
      "Doc ==> index ->  8 is_alpha True is_punct False like num False like emaik False\n",
      "objects ==> index ->  9 is_alpha True is_punct False like num False like emaik False\n",
      ": ==> index ->  10 is_alpha False is_punct True like num False like emaik False\n",
      "the ==> index ->  11 is_alpha True is_punct False like num False like emaik False\n",
      "reference ==> index ->  12 is_alpha True is_punct False like num False like emaik False\n",
      "data ==> index ->  13 is_alpha True is_punct False like num False like emaik False\n",
      "and ==> index ->  14 is_alpha True is_punct False like num False like emaik False\n",
      "the ==> index ->  15 is_alpha True is_punct False like num False like emaik False\n",
      "predictions ==> index ->  16 is_alpha True is_punct False like num False like emaik False\n",
      ". ==> index ->  17 is_alpha False is_punct True like num False like emaik False\n"
     ]
    }
   ],
   "source": [
    "for token in doc:\n",
    "    print(token,\"==>\",'index -> ',token.i,\n",
    "         \"is_alpha\",token.is_alpha,\n",
    "         \"is_punct\",token.is_punct,\n",
    "         \"like num\",token.like_num,\n",
    "         \"like emaik\",token.like_email)"
   ]
  },
  {
   "cell_type": "code",
   "execution_count": 13,
   "id": "cc81fc0d-7b6f-4aac-acfb-f290859e76e5",
   "metadata": {},
   "outputs": [
    {
     "data": {
      "text/plain": [
       "''"
      ]
     },
     "execution_count": 13,
     "metadata": {},
     "output_type": "execute_result"
    }
   ],
   "source": [
    "with open('doc.txt') as f:\n",
    "    text = f.read()\n",
    "text     "
   ]
  },
  {
   "cell_type": "code",
   "execution_count": null,
   "id": "7f6c7723-e08b-4788-96e3-8a8a902a7dba",
   "metadata": {},
   "outputs": [],
   "source": []
  }
 ],
 "metadata": {
  "kernelspec": {
   "display_name": "Python (TensorFlow)",
   "language": "python",
   "name": "tensorflow-env"
  },
  "language_info": {
   "codemirror_mode": {
    "name": "ipython",
    "version": 3
   },
   "file_extension": ".py",
   "mimetype": "text/x-python",
   "name": "python",
   "nbconvert_exporter": "python",
   "pygments_lexer": "ipython3",
   "version": "3.12.10"
  }
 },
 "nbformat": 4,
 "nbformat_minor": 5
}
