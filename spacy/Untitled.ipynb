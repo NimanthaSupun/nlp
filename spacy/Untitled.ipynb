{
 "cells": [
  {
   "cell_type": "code",
   "execution_count": 1,
   "id": "9a5da286-966b-4afc-a6a2-43fbbe74225e",
   "metadata": {},
   "outputs": [],
   "source": [
    "import spacy"
   ]
  },
  {
   "cell_type": "code",
   "execution_count": 3,
   "id": "d21935b7-20ca-4234-8424-e774b53f15a8",
   "metadata": {},
   "outputs": [],
   "source": [
    "nlp = spacy.load('en_core_web_lg')"
   ]
  },
  {
   "cell_type": "code",
   "execution_count": 9,
   "id": "2890847e-e4ba-4728-bc70-fe085bcf656f",
   "metadata": {},
   "outputs": [
    {
     "name": "stdout",
     "output_type": "stream",
     "text": [
      "dog |   vector:  True |  OOV : False\n",
      "cat |   vector:  True |  OOV : False\n",
      "banana |   vector:  True |  OOV : False\n",
      "ererag |   vector:  False |  OOV : True\n"
     ]
    }
   ],
   "source": [
    "doc = nlp('dog cat banana ererag')\n",
    "\n",
    "for token in doc:\n",
    "    print(token.text,\"|   vector: \", token.has_vector, \"|  OOV :\", token.is_oov)"
   ]
  },
  {
   "cell_type": "code",
   "execution_count": 15,
   "id": "a0b1f665-ba1d-48d1-ae53-bb14d54af695",
   "metadata": {},
   "outputs": [
    {
     "data": {
      "text/plain": [
       "(300,)"
      ]
     },
     "execution_count": 15,
     "metadata": {},
     "output_type": "execute_result"
    }
   ],
   "source": [
    "doc[0].vector.shape"
   ]
  },
  {
   "cell_type": "code",
   "execution_count": 19,
   "id": "24a65cd2-b0a2-462e-82bc-e578b5df8067",
   "metadata": {},
   "outputs": [
    {
     "data": {
      "text/plain": [
       "(300,)"
      ]
     },
     "execution_count": 19,
     "metadata": {},
     "output_type": "execute_result"
    }
   ],
   "source": [
    "base_token = nlp('bread')\n",
    "base_token.vector.shape"
   ]
  },
  {
   "cell_type": "code",
   "execution_count": 29,
   "id": "e9ea9a30-5b9f-484d-a7e0-debc569c49d1",
   "metadata": {},
   "outputs": [
    {
     "name": "stdout",
     "output_type": "stream",
     "text": [
      "bread <-> bread : 1.0\n",
      "sandwich <-> bread : 0.6874560117721558\n",
      "burger <-> bread : 0.544037401676178\n",
      "car <-> bread : 0.16441147029399872\n",
      "tiger <-> bread : 0.14492356777191162\n",
      "human <-> bread : 0.21103660762310028\n",
      "wheat <-> bread : 0.6572456359863281\n"
     ]
    }
   ],
   "source": [
    "doc = nlp('bread sandwich burger car tiger human wheat')\n",
    "\n",
    "for token in doc:\n",
    "    print(f\"{token.text} <-> {base_token.text} : {token.similarity(base_token)}\")"
   ]
  },
  {
   "cell_type": "code",
   "execution_count": 59,
   "id": "737478d4-e625-4845-bb31-2f0b2b178411",
   "metadata": {},
   "outputs": [],
   "source": [
    "def find_similarity(base_word,words_to_compare):\n",
    "    base_token = nlp(base_word)\n",
    "    doc = nlp(words_to_compare)\n",
    "    for token in doc:\n",
    "        print(\"{:10}| {:10} | {:10}\".format(token.text,base_token.text,token.similarity(base_token)))"
   ]
  },
  {
   "cell_type": "code",
   "execution_count": 61,
   "id": "3bbff333-8139-4c52-8940-011bbcbcd975",
   "metadata": {},
   "outputs": [
    {
     "name": "stdout",
     "output_type": "stream",
     "text": [
      "apple     | iphone     | 0.6339781284332275\n",
      "samsung   | iphone     | 0.6678677797317505\n",
      "iphone    | iphone     |        1.0\n",
      "dog       | iphone     | 0.1743103712797165\n",
      "flower    | iphone     | 0.16876977682113647\n"
     ]
    }
   ],
   "source": [
    "find_similarity('iphone','apple samsung iphone dog flower')"
   ]
  },
  {
   "cell_type": "code",
   "execution_count": 65,
   "id": "732a9b03-f4da-4a00-b6b7-35039fa13d78",
   "metadata": {},
   "outputs": [],
   "source": [
    "king = nlp.vocab['king'].vector\n",
    "man = nlp.vocab['man'].vector\n",
    "woman = nlp.vocab['woman'].vector\n",
    "queen = nlp.vocab['queen'].vector\n",
    "\n",
    "result = king - man + woman"
   ]
  },
  {
   "cell_type": "code",
   "execution_count": 67,
   "id": "eb1e75e6-4272-4783-8089-ae460705aed5",
   "metadata": {},
   "outputs": [],
   "source": [
    "from sklearn.metrics.pairwise import cosine_similarity"
   ]
  },
  {
   "cell_type": "code",
   "execution_count": 73,
   "id": "8cfc111b-f1aa-44cc-91b1-c94479fe7b08",
   "metadata": {},
   "outputs": [
    {
     "data": {
      "text/plain": [
       "array([[0.78808445]], dtype=float32)"
      ]
     },
     "execution_count": 73,
     "metadata": {},
     "output_type": "execute_result"
    }
   ],
   "source": [
    "cosine_similarity([result], [queen])"
   ]
  },
  {
   "cell_type": "code",
   "execution_count": null,
   "id": "cd6961e4-3fbc-45e4-8de8-971be95e97b3",
   "metadata": {},
   "outputs": [],
   "source": []
  }
 ],
 "metadata": {
  "kernelspec": {
   "display_name": "Python (TensorFlow)",
   "language": "python",
   "name": "tensorflow-env"
  },
  "language_info": {
   "codemirror_mode": {
    "name": "ipython",
    "version": 3
   },
   "file_extension": ".py",
   "mimetype": "text/x-python",
   "name": "python",
   "nbconvert_exporter": "python",
   "pygments_lexer": "ipython3",
   "version": "3.12.10"
  }
 },
 "nbformat": 4,
 "nbformat_minor": 5
}
