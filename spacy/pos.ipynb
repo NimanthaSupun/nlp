{
 "cells": [
  {
   "cell_type": "code",
   "execution_count": 7,
   "id": "09197b14-c072-4834-b2cc-4d7dc5d427ec",
   "metadata": {},
   "outputs": [],
   "source": [
    "import spacy"
   ]
  },
  {
   "cell_type": "code",
   "execution_count": 11,
   "id": "946e64ad-de12-4d86-a967-5d0a703fd644",
   "metadata": {},
   "outputs": [],
   "source": [
    "nlp = spacy.load('en_core_web_sm')"
   ]
  },
  {
   "cell_type": "code",
   "execution_count": 13,
   "id": "98340ca2-5f80-4890-87d1-7bf4cb3de9ca",
   "metadata": {},
   "outputs": [],
   "source": [
    "doc = nlp(\"Dr. Strange loves pav bhaji of mumbai. Hulk loves chat of delhi\")"
   ]
  },
  {
   "cell_type": "code",
   "execution_count": 21,
   "id": "cfc38c6a-de7c-40ef-a57b-de25eaa1771c",
   "metadata": {},
   "outputs": [
    {
     "name": "stdout",
     "output_type": "stream",
     "text": [
      "Dr.                 | PROPN               |  proper noun         \n",
      "Strange             | PROPN               |  proper noun         \n",
      "loves               | VERB                |  verb                \n",
      "pav                 | NOUN                |  noun                \n",
      "bhaji               | NOUN                |  noun                \n",
      "of                  | ADP                 |  adposition          \n",
      "mumbai              | NOUN                |  noun                \n",
      ".                   | PUNCT               |  punctuation         \n",
      "Hulk                | PROPN               |  proper noun         \n",
      "loves               | VERB                |  verb                \n",
      "chat                | NOUN                |  noun                \n",
      "of                  | ADP                 |  adposition          \n",
      "delhi               | PROPN               |  proper noun         \n"
     ]
    }
   ],
   "source": [
    "for token in doc:\n",
    "    print(\"{:20}| {:20}|  {:20}\".format(token.text,token.pos_,spacy.explain(token.pos_)))"
   ]
  },
  {
   "cell_type": "code",
   "execution_count": 23,
   "id": "fc7c826a-61b0-484b-8607-c9cd8f4108df",
   "metadata": {},
   "outputs": [
    {
     "data": {
      "text/plain": [
       "['tok2vec', 'tagger', 'parser', 'attribute_ruler', 'lemmatizer', 'ner']"
      ]
     },
     "execution_count": 23,
     "metadata": {},
     "output_type": "execute_result"
    }
   ],
   "source": [
    "nlp.pipe_names"
   ]
  },
  {
   "cell_type": "code",
   "execution_count": 29,
   "id": "c710d220-25ce-491d-85ee-033102b1966c",
   "metadata": {},
   "outputs": [
    {
     "name": "stdout",
     "output_type": "stream",
     "text": [
      "Dr.                 | PROPN               |  proper noun         |  NNP                 \n",
      "Strange             | PROPN               |  proper noun         |  NNP                 \n",
      "loves               | VERB                |  verb                |  VBZ                 \n",
      "pav                 | NOUN                |  noun                |  NNS                 \n",
      "bhaji               | NOUN                |  noun                |  NN                  \n",
      "of                  | ADP                 |  adposition          |  IN                  \n",
      "mumbai              | NOUN                |  noun                |  NN                  \n",
      ".                   | PUNCT               |  punctuation         |  .                   \n",
      "Hulk                | PROPN               |  proper noun         |  NNP                 \n",
      "loves               | VERB                |  verb                |  VBZ                 \n",
      "chat                | NOUN                |  noun                |  NN                  \n",
      "of                  | ADP                 |  adposition          |  IN                  \n",
      "delhi               | PROPN               |  proper noun         |  NNP                 \n"
     ]
    }
   ],
   "source": [
    "for token in doc:\n",
    "    print(\"{:20}| {:20}|  {:20}|  {:20}|  {0:20}\".format(token.text,token.pos_,spacy.explain(token.pos_),token.tag_),spacy.explain(token.tag_))"
   ]
  },
  {
   "cell_type": "code",
   "execution_count": null,
   "id": "c5736266-0375-4fc5-a74d-12ccca862a92",
   "metadata": {},
   "outputs": [],
   "source": []
  }
 ],
 "metadata": {
  "kernelspec": {
   "display_name": "Python (TensorFlow)",
   "language": "python",
   "name": "tensorflow-env"
  },
  "language_info": {
   "codemirror_mode": {
    "name": "ipython",
    "version": 3
   },
   "file_extension": ".py",
   "mimetype": "text/x-python",
   "name": "python",
   "nbconvert_exporter": "python",
   "pygments_lexer": "ipython3",
   "version": "3.12.10"
  }
 },
 "nbformat": 4,
 "nbformat_minor": 5
}
