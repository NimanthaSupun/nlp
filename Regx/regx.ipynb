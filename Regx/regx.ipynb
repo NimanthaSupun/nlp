{
 "cells": [
  {
   "cell_type": "code",
   "execution_count": 112,
   "id": "f1416532",
   "metadata": {},
   "outputs": [],
   "source": [
    "import re"
   ]
  },
  {
   "cell_type": "code",
   "execution_count": 114,
   "id": "6dc67f8f",
   "metadata": {},
   "outputs": [],
   "source": [
    "chat1 = '12345678912, abc@xyz.com'\n",
    "chat2 = '(123)-567-8912, abx_82@xyz.com'\n",
    "chat3 = '12345678912 email:abc@xyz.com'"
   ]
  },
  {
   "cell_type": "code",
   "execution_count": 116,
   "id": "188706e2",
   "metadata": {},
   "outputs": [
    {
     "name": "stderr",
     "output_type": "stream",
     "text": [
      "<>:1: SyntaxWarning: invalid escape sequence '\\d'\n",
      "<>:1: SyntaxWarning: invalid escape sequence '\\d'\n",
      "C:\\Users\\supun\\AppData\\Local\\Temp\\ipykernel_15944\\4137142999.py:1: SyntaxWarning: invalid escape sequence '\\d'\n",
      "  p1 = '\\d{11}'\n"
     ]
    },
    {
     "data": {
      "text/plain": [
       "['12345678912']"
      ]
     },
     "execution_count": 116,
     "metadata": {},
     "output_type": "execute_result"
    }
   ],
   "source": [
    "p1 = '\\d{11}'\n",
    "num = re.findall(p1,chat1)\n",
    "num"
   ]
  },
  {
   "cell_type": "code",
   "execution_count": 118,
   "id": "c9798887",
   "metadata": {},
   "outputs": [
    {
     "name": "stderr",
     "output_type": "stream",
     "text": [
      "<>:1: SyntaxWarning: invalid escape sequence '\\('\n",
      "<>:1: SyntaxWarning: invalid escape sequence '\\('\n",
      "C:\\Users\\supun\\AppData\\Local\\Temp\\ipykernel_15944\\1723667989.py:1: SyntaxWarning: invalid escape sequence '\\('\n",
      "  p2 = '\\(\\d{3}\\)-\\d{3}-\\d{4}'\n"
     ]
    },
    {
     "data": {
      "text/plain": [
       "['(123)-567-8912']"
      ]
     },
     "execution_count": 118,
     "metadata": {},
     "output_type": "execute_result"
    }
   ],
   "source": [
    "p2 = '\\(\\d{3}\\)-\\d{3}-\\d{4}'\n",
    "chat2num = re.findall(p2,chat2)\n",
    "chat2num"
   ]
  },
  {
   "cell_type": "code",
   "execution_count": 120,
   "id": "38f4d9cd",
   "metadata": {},
   "outputs": [],
   "source": [
    "text1 = \"My email is john.doe123@example.com, please contact me.\""
   ]
  },
  {
   "cell_type": "code",
   "execution_count": 122,
   "id": "06d5a49b-09a2-4acb-873c-56d5b5a99922",
   "metadata": {},
   "outputs": [
    {
     "data": {
      "text/plain": [
       "'My email is john.doe123@example.com, please contact me.'"
      ]
     },
     "execution_count": 122,
     "metadata": {},
     "output_type": "execute_result"
    }
   ],
   "source": [
    "text1"
   ]
  },
  {
   "cell_type": "markdown",
   "id": "2b98c8b5-d0e4-48ac-bae3-90168fab0af3",
   "metadata": {},
   "source": [
    "### 1. Extract all emails"
   ]
  },
  {
   "cell_type": "code",
   "execution_count": 125,
   "id": "4e915d7b-5ea7-4f8e-91ef-d4fcac63470f",
   "metadata": {},
   "outputs": [
    {
     "name": "stderr",
     "output_type": "stream",
     "text": [
      "<>:1: SyntaxWarning: invalid escape sequence '\\w'\n",
      "<>:1: SyntaxWarning: invalid escape sequence '\\w'\n",
      "C:\\Users\\supun\\AppData\\Local\\Temp\\ipykernel_15944\\223404194.py:1: SyntaxWarning: invalid escape sequence '\\w'\n",
      "  p3 = '[\\w\\.-]+@[\\w\\.-]+\\.\\w+'\n"
     ]
    },
    {
     "data": {
      "text/plain": [
       "['john.doe123@example.com']"
      ]
     },
     "execution_count": 125,
     "metadata": {},
     "output_type": "execute_result"
    }
   ],
   "source": [
    "p3 = '[\\w\\.-]+@[\\w\\.-]+\\.\\w+'\n",
    "email = re.findall(p3,text1)\n",
    "email"
   ]
  },
  {
   "cell_type": "markdown",
   "id": "9ebb8419-819e-4bd0-bbe3-e7035a5cf009",
   "metadata": {},
   "source": [
    "### 2. Extract all prices (with $)"
   ]
  },
  {
   "cell_type": "code",
   "execution_count": 128,
   "id": "e52a47c0-d546-49a4-87fe-db93522f4ac5",
   "metadata": {},
   "outputs": [],
   "source": [
    "text3 = 'The price of the book is $49.99, but with discount it’s $39.50.'"
   ]
  },
  {
   "cell_type": "code",
   "execution_count": 130,
   "id": "304336ad-20ea-4c9e-a240-53d9aca578d3",
   "metadata": {},
   "outputs": [
    {
     "name": "stderr",
     "output_type": "stream",
     "text": [
      "<>:1: SyntaxWarning: invalid escape sequence '\\$'\n",
      "<>:1: SyntaxWarning: invalid escape sequence '\\$'\n",
      "C:\\Users\\supun\\AppData\\Local\\Temp\\ipykernel_15944\\3910277524.py:1: SyntaxWarning: invalid escape sequence '\\$'\n",
      "  p4 = '\\$\\d+\\.\\d{2}'\n"
     ]
    },
    {
     "data": {
      "text/plain": [
       "['$49.99', '$39.50']"
      ]
     },
     "execution_count": 130,
     "metadata": {},
     "output_type": "execute_result"
    }
   ],
   "source": [
    "p4 = '\\$\\d+\\.\\d{2}'\n",
    "price = re.findall(p4,text3)\n",
    "price"
   ]
  },
  {
   "cell_type": "markdown",
   "id": "6a87d777-38d6-4b3b-8fa4-1822dbf3ff8c",
   "metadata": {},
   "source": [
    "### 3. Extract all dates (dd/mm/yyyy)"
   ]
  },
  {
   "cell_type": "code",
   "execution_count": 133,
   "id": "43cf9974-e381-411b-b8d0-8975816ce64a",
   "metadata": {},
   "outputs": [
    {
     "data": {
      "text/plain": [
       "'Today’s date is 11/09/2025, yesterday was 10/09/2025.'"
      ]
     },
     "execution_count": 133,
     "metadata": {},
     "output_type": "execute_result"
    }
   ],
   "source": [
    "text4 = 'Today’s date is 11/09/2025, yesterday was 10/09/2025.'\n",
    "text4"
   ]
  },
  {
   "cell_type": "code",
   "execution_count": 135,
   "id": "2a4f41ea-8a27-4a98-aa46-aed822eb926d",
   "metadata": {},
   "outputs": [
    {
     "name": "stderr",
     "output_type": "stream",
     "text": [
      "<>:1: SyntaxWarning: invalid escape sequence '\\d'\n",
      "<>:1: SyntaxWarning: invalid escape sequence '\\d'\n",
      "C:\\Users\\supun\\AppData\\Local\\Temp\\ipykernel_15944\\1775291398.py:1: SyntaxWarning: invalid escape sequence '\\d'\n",
      "  p5 = '\\d{2}/\\d{2}/\\d{4}'\n"
     ]
    },
    {
     "data": {
      "text/plain": [
       "['11/09/2025', '10/09/2025']"
      ]
     },
     "execution_count": 135,
     "metadata": {},
     "output_type": "execute_result"
    }
   ],
   "source": [
    "p5 = '\\d{2}/\\d{2}/\\d{4}'\n",
    "date = re.findall(p5,text4)\n",
    "date"
   ]
  },
  {
   "cell_type": "markdown",
   "id": "2776f8d3-1923-4363-84d4-d9b96b71222e",
   "metadata": {},
   "source": [
    "### 4. Extract phone numbers"
   ]
  },
  {
   "cell_type": "code",
   "execution_count": 138,
   "id": "4c9984c2-dcc7-43f9-9388-27bfd65d1c85",
   "metadata": {},
   "outputs": [
    {
     "data": {
      "text/plain": [
       "'Call me at +94-71-2345678 or 071-9876543 +94712345678.'"
      ]
     },
     "execution_count": 138,
     "metadata": {},
     "output_type": "execute_result"
    }
   ],
   "source": [
    "text5 = 'Call me at +94-71-2345678 or 071-9876543 +94712345678.'\n",
    "text5"
   ]
  },
  {
   "cell_type": "code",
   "execution_count": 140,
   "id": "85f7661f-2be9-432c-9780-06af81afad24",
   "metadata": {},
   "outputs": [
    {
     "name": "stderr",
     "output_type": "stream",
     "text": [
      "<>:1: SyntaxWarning: invalid escape sequence '\\+'\n",
      "<>:1: SyntaxWarning: invalid escape sequence '\\+'\n",
      "C:\\Users\\supun\\AppData\\Local\\Temp\\ipykernel_15944\\2747996001.py:1: SyntaxWarning: invalid escape sequence '\\+'\n",
      "  p6 = '(\\+?\\d{2,3}-?\\d{2}-?\\d{7}|\\d{3}-\\d{7})'\n"
     ]
    },
    {
     "data": {
      "text/plain": [
       "['+94-71-2345678', '071-9876543', '+94712345678']"
      ]
     },
     "execution_count": 140,
     "metadata": {},
     "output_type": "execute_result"
    }
   ],
   "source": [
    "p6 = '(\\+?\\d{2,3}-?\\d{2}-?\\d{7}|\\d{3}-\\d{7})'\n",
    "number = re.findall(p6,text5)\n",
    "number"
   ]
  },
  {
   "cell_type": "markdown",
   "id": "88783a2e-338a-4084-bdaa-653bf529f014",
   "metadata": {},
   "source": [
    "### 5. Extract order IDs (ORD-xxxxx)"
   ]
  },
  {
   "cell_type": "code",
   "execution_count": 143,
   "id": "dfb9c362-ea35-41be-a37c-5c9c4d44fc7b",
   "metadata": {},
   "outputs": [
    {
     "data": {
      "text/plain": [
       "'The order IDs are ORD-12345, ORD-67890, and ORD-54321.'"
      ]
     },
     "execution_count": 143,
     "metadata": {},
     "output_type": "execute_result"
    }
   ],
   "source": [
    "text6 = 'The order IDs are ORD-12345, ORD-67890, and ORD-54321.'\n",
    "text6"
   ]
  },
  {
   "cell_type": "code",
   "execution_count": null,
   "id": "6e2a9fdb-03eb-40cb-8ce8-762a32ce557e",
   "metadata": {},
   "outputs": [
    {
     "name": "stderr",
     "output_type": "stream",
     "text": [
      "<>:1: SyntaxWarning: invalid escape sequence '\\d'\n",
      "<>:1: SyntaxWarning: invalid escape sequence '\\d'\n",
      "C:\\Users\\supun\\AppData\\Local\\Temp\\ipykernel_15944\\230552785.py:1: SyntaxWarning: invalid escape sequence '\\d'\n",
      "  p7 = 'ORD-\\d+'\n"
     ]
    },
    {
     "data": {
      "text/plain": [
       "['ORD-12345', 'ORD-67890', 'ORD-54321']"
      ]
     },
     "execution_count": 148,
     "metadata": {},
     "output_type": "execute_result"
    }
   ],
   "source": [
    "p7 = 'ORD-\\d+'\n",
    "order = re.findall(p7,text6)\n",
    "order"
   ]
  },
  {
   "cell_type": "markdown",
   "id": "a159288c-0201-4103-9530-e3d6e9fe8767",
   "metadata": {},
   "source": [
    "### Extract IP addresses\n",
    "\n"
   ]
  },
  {
   "cell_type": "code",
   "execution_count": 151,
   "id": "b04615c9-7bd5-4fb5-b664-68b169230e87",
   "metadata": {},
   "outputs": [
    {
     "data": {
      "text/plain": [
       "'My IP address is 192.168.1.100, and my friend’s is 10.0.0.45.'"
      ]
     },
     "execution_count": 151,
     "metadata": {},
     "output_type": "execute_result"
    }
   ],
   "source": [
    "text7 = 'My IP address is 192.168.1.100, and my friend’s is 10.0.0.45.'\n",
    "text7"
   ]
  },
  {
   "cell_type": "code",
   "execution_count": 155,
   "id": "ec761745-4b9c-4afa-b06c-01fcb4eb82d5",
   "metadata": {},
   "outputs": [
    {
     "name": "stderr",
     "output_type": "stream",
     "text": [
      "<>:1: SyntaxWarning: invalid escape sequence '\\d'\n",
      "<>:1: SyntaxWarning: invalid escape sequence '\\d'\n",
      "C:\\Users\\supun\\AppData\\Local\\Temp\\ipykernel_15944\\2556626786.py:1: SyntaxWarning: invalid escape sequence '\\d'\n",
      "  p8 = '(?:\\d{1,3}\\.){3}\\d{1,3}'\n"
     ]
    },
    {
     "data": {
      "text/plain": [
       "['192.168.1.100', '10.0.0.45']"
      ]
     },
     "execution_count": 155,
     "metadata": {},
     "output_type": "execute_result"
    }
   ],
   "source": [
    "p8 = '(?:\\d{1,3}\\.){3}\\d{1,3}'\n",
    "ip = re.findall(p8,text7)\n",
    "ip"
   ]
  },
  {
   "cell_type": "markdown",
   "id": "69d8a497-4743-4bf4-867d-d736c6258b7b",
   "metadata": {},
   "source": [
    "### Extract URLs"
   ]
  },
  {
   "cell_type": "code",
   "execution_count": 158,
   "id": "0b7d0f1b-cfac-459f-803c-35cd1ad75193",
   "metadata": {},
   "outputs": [
    {
     "data": {
      "text/plain": [
       "'URLs to check: https://openai.com, http://example.org, and www.testsite.lk.'"
      ]
     },
     "execution_count": 158,
     "metadata": {},
     "output_type": "execute_result"
    }
   ],
   "source": [
    "text8 = 'URLs to check: https://openai.com, http://example.org, and www.testsite.lk.'\n",
    "text8"
   ]
  },
  {
   "cell_type": "code",
   "execution_count": 160,
   "id": "79348cd2-0b8d-46bd-bbfd-87036bb2f53d",
   "metadata": {},
   "outputs": [
    {
     "name": "stderr",
     "output_type": "stream",
     "text": [
      "<>:1: SyntaxWarning: invalid escape sequence '\\/'\n",
      "<>:1: SyntaxWarning: invalid escape sequence '\\/'\n",
      "C:\\Users\\supun\\AppData\\Local\\Temp\\ipykernel_15944\\2467832648.py:1: SyntaxWarning: invalid escape sequence '\\/'\n",
      "  p9 = 'htttps?:\\/\\/[a-zA-Z]+\\.[a-zA-Z]+'\n"
     ]
    },
    {
     "data": {
      "text/plain": [
       "[]"
      ]
     },
     "execution_count": 160,
     "metadata": {},
     "output_type": "execute_result"
    }
   ],
   "source": [
    "p9 = 'htttps?:\\/\\/[a-zA-Z]+\\.[a-zA-Z]+'\n",
    "url = re.findall(p9,text8)\n",
    "url"
   ]
  },
  {
   "cell_type": "code",
   "execution_count": null,
   "id": "bbab1827-ff10-4732-b5d4-7fdcd5e5e8bc",
   "metadata": {},
   "outputs": [],
   "source": []
  }
 ],
 "metadata": {
  "kernelspec": {
   "display_name": "Python 3",
   "language": "python",
   "name": "python3"
  },
  "language_info": {
   "codemirror_mode": {
    "name": "ipython",
    "version": 3
   },
   "file_extension": ".py",
   "mimetype": "text/x-python",
   "name": "python",
   "nbconvert_exporter": "python",
   "pygments_lexer": "ipython3",
   "version": "3.12.10"
  }
 },
 "nbformat": 4,
 "nbformat_minor": 5
}
