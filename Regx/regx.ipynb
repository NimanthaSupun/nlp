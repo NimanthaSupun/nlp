{
 "cells": [
  {
   "cell_type": "code",
   "execution_count": 1,
   "id": "f1416532",
   "metadata": {},
   "outputs": [],
   "source": [
    "import re"
   ]
  },
  {
   "cell_type": "code",
   "execution_count": 3,
   "id": "6dc67f8f",
   "metadata": {},
   "outputs": [],
   "source": [
    "chat1 = '12345678912, abc@xyz.com'\n",
    "chat2 = '(123)-567-8912, abx_82@xyz.com'\n",
    "chat3 = '12345678912 email:abc@xyz.com'"
   ]
  },
  {
   "cell_type": "code",
   "execution_count": 4,
   "id": "188706e2",
   "metadata": {},
   "outputs": [
    {
     "name": "stderr",
     "output_type": "stream",
     "text": [
      "<>:1: SyntaxWarning: invalid escape sequence '\\d'\n",
      "<>:1: SyntaxWarning: invalid escape sequence '\\d'\n",
      "C:\\Users\\supun\\AppData\\Local\\Temp\\ipykernel_15944\\4137142999.py:1: SyntaxWarning: invalid escape sequence '\\d'\n",
      "  p1 = '\\d{11}'\n"
     ]
    },
    {
     "data": {
      "text/plain": [
       "['12345678912']"
      ]
     },
     "execution_count": 4,
     "metadata": {},
     "output_type": "execute_result"
    }
   ],
   "source": [
    "p1 = '\\d{11}'\n",
    "num = re.findall(p1,chat1)\n",
    "num"
   ]
  },
  {
   "cell_type": "code",
   "execution_count": 5,
   "id": "c9798887",
   "metadata": {},
   "outputs": [
    {
     "name": "stderr",
     "output_type": "stream",
     "text": [
      "<>:1: SyntaxWarning: invalid escape sequence '\\('\n",
      "<>:1: SyntaxWarning: invalid escape sequence '\\('\n",
      "C:\\Users\\supun\\AppData\\Local\\Temp\\ipykernel_15944\\1723667989.py:1: SyntaxWarning: invalid escape sequence '\\('\n",
      "  p2 = '\\(\\d{3}\\)-\\d{3}-\\d{4}'\n"
     ]
    },
    {
     "data": {
      "text/plain": [
       "['(123)-567-8912']"
      ]
     },
     "execution_count": 5,
     "metadata": {},
     "output_type": "execute_result"
    }
   ],
   "source": [
    "p2 = '\\(\\d{3}\\)-\\d{3}-\\d{4}'\n",
    "chat2num = re.findall(p2,chat2)\n",
    "chat2num"
   ]
  },
  {
   "cell_type": "code",
   "execution_count": 27,
   "id": "38f4d9cd",
   "metadata": {},
   "outputs": [],
   "source": [
    "text1 = \"My email is john.doe123@example.com, please contact me.\""
   ]
  },
  {
   "cell_type": "code",
   "execution_count": 31,
   "id": "06d5a49b-09a2-4acb-873c-56d5b5a99922",
   "metadata": {},
   "outputs": [
    {
     "data": {
      "text/plain": [
       "'My email is john.doe123@example.com, please contact me.'"
      ]
     },
     "execution_count": 31,
     "metadata": {},
     "output_type": "execute_result"
    }
   ],
   "source": [
    "text1"
   ]
  },
  {
   "cell_type": "markdown",
   "id": "2b98c8b5-d0e4-48ac-bae3-90168fab0af3",
   "metadata": {},
   "source": [
    "### 1. Extract all emails"
   ]
  },
  {
   "cell_type": "code",
   "execution_count": 40,
   "id": "4e915d7b-5ea7-4f8e-91ef-d4fcac63470f",
   "metadata": {},
   "outputs": [
    {
     "name": "stderr",
     "output_type": "stream",
     "text": [
      "<>:1: SyntaxWarning: invalid escape sequence '\\w'\n",
      "<>:1: SyntaxWarning: invalid escape sequence '\\w'\n",
      "C:\\Users\\supun\\AppData\\Local\\Temp\\ipykernel_15944\\223404194.py:1: SyntaxWarning: invalid escape sequence '\\w'\n",
      "  p3 = '[\\w\\.-]+@[\\w\\.-]+\\.\\w+'\n"
     ]
    },
    {
     "data": {
      "text/plain": [
       "['john.doe123@example.com']"
      ]
     },
     "execution_count": 40,
     "metadata": {},
     "output_type": "execute_result"
    }
   ],
   "source": [
    "p3 = '[\\w\\.-]+@[\\w\\.-]+\\.\\w+'\n",
    "email = re.findall(p3,text1)\n",
    "email"
   ]
  },
  {
   "cell_type": "markdown",
   "id": "9ebb8419-819e-4bd0-bbe3-e7035a5cf009",
   "metadata": {},
   "source": [
    "### 2. Extract all prices (with $)"
   ]
  },
  {
   "cell_type": "code",
   "execution_count": 45,
   "id": "e52a47c0-d546-49a4-87fe-db93522f4ac5",
   "metadata": {},
   "outputs": [],
   "source": [
    "text3 = 'The price of the book is $49.99, but with discount it’s $39.50.'"
   ]
  },
  {
   "cell_type": "code",
   "execution_count": 49,
   "id": "304336ad-20ea-4c9e-a240-53d9aca578d3",
   "metadata": {},
   "outputs": [
    {
     "name": "stderr",
     "output_type": "stream",
     "text": [
      "<>:1: SyntaxWarning: invalid escape sequence '\\$'\n",
      "<>:1: SyntaxWarning: invalid escape sequence '\\$'\n",
      "C:\\Users\\supun\\AppData\\Local\\Temp\\ipykernel_15944\\3910277524.py:1: SyntaxWarning: invalid escape sequence '\\$'\n",
      "  p4 = '\\$\\d+\\.\\d{2}'\n"
     ]
    },
    {
     "data": {
      "text/plain": [
       "['$49.99', '$39.50']"
      ]
     },
     "execution_count": 49,
     "metadata": {},
     "output_type": "execute_result"
    }
   ],
   "source": [
    "p4 = '\\$\\d+\\.\\d{2}'\n",
    "price = re.findall(p4,text3)\n",
    "price"
   ]
  },
  {
   "cell_type": "markdown",
   "id": "6a87d777-38d6-4b3b-8fa4-1822dbf3ff8c",
   "metadata": {},
   "source": [
    "### 3. Extract all dates (dd/mm/yyyy)"
   ]
  },
  {
   "cell_type": "code",
   "execution_count": 55,
   "id": "43cf9974-e381-411b-b8d0-8975816ce64a",
   "metadata": {},
   "outputs": [
    {
     "data": {
      "text/plain": [
       "'Today’s date is 11/09/2025, yesterday was 10/09/2025.'"
      ]
     },
     "execution_count": 55,
     "metadata": {},
     "output_type": "execute_result"
    }
   ],
   "source": [
    "text4 = 'Today’s date is 11/09/2025, yesterday was 10/09/2025.'\n",
    "text4"
   ]
  },
  {
   "cell_type": "code",
   "execution_count": 57,
   "id": "2a4f41ea-8a27-4a98-aa46-aed822eb926d",
   "metadata": {},
   "outputs": [
    {
     "name": "stderr",
     "output_type": "stream",
     "text": [
      "<>:1: SyntaxWarning: invalid escape sequence '\\d'\n",
      "<>:1: SyntaxWarning: invalid escape sequence '\\d'\n",
      "C:\\Users\\supun\\AppData\\Local\\Temp\\ipykernel_15944\\1775291398.py:1: SyntaxWarning: invalid escape sequence '\\d'\n",
      "  p5 = '\\d{2}/\\d{2}/\\d{4}'\n"
     ]
    },
    {
     "data": {
      "text/plain": [
       "['11/09/2025', '10/09/2025']"
      ]
     },
     "execution_count": 57,
     "metadata": {},
     "output_type": "execute_result"
    }
   ],
   "source": [
    "p5 = '\\d{2}/\\d{2}/\\d{4}'\n",
    "date = re.findall(p5,text4)\n",
    "date"
   ]
  },
  {
   "cell_type": "markdown",
   "id": "2776f8d3-1923-4363-84d4-d9b96b71222e",
   "metadata": {},
   "source": [
    "### 4. Extract phone numbers"
   ]
  },
  {
   "cell_type": "code",
   "execution_count": 66,
   "id": "4c9984c2-dcc7-43f9-9388-27bfd65d1c85",
   "metadata": {},
   "outputs": [
    {
     "data": {
      "text/plain": [
       "'Call me at +94-71-2345678 or 071-9876543 +94712345678.'"
      ]
     },
     "execution_count": 66,
     "metadata": {},
     "output_type": "execute_result"
    }
   ],
   "source": [
    "text5 = 'Call me at +94-71-2345678 or 071-9876543 +94712345678.'\n",
    "text5"
   ]
  },
  {
   "cell_type": "code",
   "execution_count": 70,
   "id": "85f7661f-2be9-432c-9780-06af81afad24",
   "metadata": {},
   "outputs": [
    {
     "name": "stderr",
     "output_type": "stream",
     "text": [
      "<>:1: SyntaxWarning: invalid escape sequence '\\+'\n",
      "<>:1: SyntaxWarning: invalid escape sequence '\\+'\n",
      "C:\\Users\\supun\\AppData\\Local\\Temp\\ipykernel_15944\\2747996001.py:1: SyntaxWarning: invalid escape sequence '\\+'\n",
      "  p6 = '(\\+?\\d{2,3}-?\\d{2}-?\\d{7}|\\d{3}-\\d{7})'\n"
     ]
    },
    {
     "data": {
      "text/plain": [
       "['+94-71-2345678', '071-9876543', '+94712345678']"
      ]
     },
     "execution_count": 70,
     "metadata": {},
     "output_type": "execute_result"
    }
   ],
   "source": [
    "p6 = '(\\+?\\d{2,3}-?\\d{2}-?\\d{7}|\\d{3}-\\d{7})'\n",
    "number = re.findall(p6,text5)\n",
    "number"
   ]
  },
  {
   "cell_type": "markdown",
   "id": "88783a2e-338a-4084-bdaa-653bf529f014",
   "metadata": {},
   "source": [
    "### 5. Extract order IDs (ORD-xxxxx)"
   ]
  },
  {
   "cell_type": "code",
   "execution_count": 73,
   "id": "dfb9c362-ea35-41be-a37c-5c9c4d44fc7b",
   "metadata": {},
   "outputs": [
    {
     "data": {
      "text/plain": [
       "'The order IDs are ORD-12345, ORD-67890, and ORD-54321.'"
      ]
     },
     "execution_count": 73,
     "metadata": {},
     "output_type": "execute_result"
    }
   ],
   "source": [
    "text6 = 'The order IDs are ORD-12345, ORD-67890, and ORD-54321.'\n",
    "text6"
   ]
  },
  {
   "cell_type": "code",
   "execution_count": null,
   "id": "6e2a9fdb-03eb-40cb-8ce8-762a32ce557e",
   "metadata": {},
   "outputs": [],
   "source": [
    "p7 = 'ORD-\\d+'\n",
    "order = re.findall(p7,text)"
   ]
  }
 ],
 "metadata": {
  "kernelspec": {
   "display_name": "Python 3",
   "language": "python",
   "name": "python3"
  },
  "language_info": {
   "codemirror_mode": {
    "name": "ipython",
    "version": 3
   },
   "file_extension": ".py",
   "mimetype": "text/x-python",
   "name": "python",
   "nbconvert_exporter": "python",
   "pygments_lexer": "ipython3",
   "version": "3.12.10"
  }
 },
 "nbformat": 4,
 "nbformat_minor": 5
}
