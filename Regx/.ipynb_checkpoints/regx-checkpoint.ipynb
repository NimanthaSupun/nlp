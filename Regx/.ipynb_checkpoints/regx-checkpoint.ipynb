{
 "cells": [
  {
   "cell_type": "code",
   "execution_count": 1,
   "id": "f1416532",
   "metadata": {},
   "outputs": [],
   "source": [
    "import re"
   ]
  },
  {
   "cell_type": "code",
   "execution_count": 7,
   "id": "6dc67f8f",
   "metadata": {},
   "outputs": [],
   "source": [
    "chat1 = '12345678912, abc@xyz.com'\n",
    "chat2 = '(123)-567-8912, abx_82@xyz.com'\n",
    "chat3 = '12345678912 email:abc@xyz.com'"
   ]
  },
  {
   "cell_type": "code",
   "execution_count": 8,
   "id": "188706e2",
   "metadata": {},
   "outputs": [
    {
     "name": "stderr",
     "output_type": "stream",
     "text": [
      "<>:1: SyntaxWarning: invalid escape sequence '\\d'\n",
      "<>:1: SyntaxWarning: invalid escape sequence '\\d'\n",
      "C:\\Users\\supun\\AppData\\Local\\Temp\\ipykernel_19136\\4137142999.py:1: SyntaxWarning: invalid escape sequence '\\d'\n",
      "  p1 = '\\d{11}'\n"
     ]
    },
    {
     "data": {
      "text/plain": [
       "['12345678912']"
      ]
     },
     "execution_count": 8,
     "metadata": {},
     "output_type": "execute_result"
    }
   ],
   "source": [
    "p1 = '\\d{11}'\n",
    "num = re.findall(p1,chat1)\n",
    "num"
   ]
  },
  {
   "cell_type": "code",
   "execution_count": 9,
   "id": "c9798887",
   "metadata": {},
   "outputs": [
    {
     "name": "stderr",
     "output_type": "stream",
     "text": [
      "<>:1: SyntaxWarning: invalid escape sequence '\\('\n",
      "<>:1: SyntaxWarning: invalid escape sequence '\\('\n",
      "C:\\Users\\supun\\AppData\\Local\\Temp\\ipykernel_19136\\1723667989.py:1: SyntaxWarning: invalid escape sequence '\\('\n",
      "  p2 = '\\(\\d{3}\\)-\\d{3}-\\d{4}'\n"
     ]
    },
    {
     "data": {
      "text/plain": [
       "['(123)-567-8912']"
      ]
     },
     "execution_count": 9,
     "metadata": {},
     "output_type": "execute_result"
    }
   ],
   "source": [
    "p2 = '\\(\\d{3}\\)-\\d{3}-\\d{4}'\n",
    "chat2num = re.findall(p2,chat2)\n",
    "chat2num"
   ]
  },
  {
   "cell_type": "code",
   "execution_count": null,
   "id": "38f4d9cd",
   "metadata": {},
   "outputs": [],
   "source": []
  }
 ],
 "metadata": {
  "kernelspec": {
   "display_name": "Python 3",
   "language": "python",
   "name": "python3"
  },
  "language_info": {
   "codemirror_mode": {
    "name": "ipython",
    "version": 3
   },
   "file_extension": ".py",
   "mimetype": "text/x-python",
   "name": "python",
   "nbconvert_exporter": "python",
   "pygments_lexer": "ipython3",
   "version": "3.12.10"
  }
 },
 "nbformat": 4,
 "nbformat_minor": 5
}
